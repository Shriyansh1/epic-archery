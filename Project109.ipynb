{
  "nbformat": 4,
  "nbformat_minor": 0,
  "metadata": {
    "colab": {
      "provenance": [],
      "collapsed_sections": [],
      "include_colab_link": true
    },
    "kernelspec": {
      "name": "python3",
      "display_name": "Python 3"
    },
    "language_info": {
      "name": "python"
    }
  },
  "cells": [
    {
      "cell_type": "markdown",
      "metadata": {
        "id": "view-in-github",
        "colab_type": "text"
      },
      "source": [
        "<a href=\"https://colab.research.google.com/github/Shriyansh1/epic-archery/blob/main/Project109.ipynb\" target=\"_parent\"><img src=\"https://colab.research.google.com/assets/colab-badge.svg\" alt=\"Open In Colab\"/></a>"
      ]
    },
    {
      "cell_type": "markdown",
      "metadata": {
        "id": "HU9P8NYZq1bf"
      },
      "source": [
        "### **SAVE YOUR MOVIE RATING**\n",
        "\n",
        "Enter the **Name of Movie**; \n",
        "\n",
        "Rate Actor, Story & Music on basis of 1-5 ; \n",
        "\n",
        "1 Being Lowest & 5 Being Highest\n",
        "\n"
      ]
    },
    {
      "cell_type": "code",
      "metadata": {
        "id": "4LOQr7Pgi4bI"
      },
      "source": [
        "class MovieReview:\n",
        "  def __init__(self, movie, story, actors, music):\n",
        "    #Movie name\n",
        "    self.movie_name = movie\n",
        "\n",
        "    #Ratings\n",
        "    self.story_rating = story\n",
        "    self.actor_rating = actors\n",
        "    self.music_rating = music\n",
        "\n",
        "    #Average Ratings\n",
        "    self.avg = int((self.story_rating + self.actor_rating + self.music_rating)/3)\n",
        "\n",
        "    #Move Info\n",
        "    self.myrating = {\n",
        "        \"Movie Name\" : self.movie_name,\n",
        "        \"Story rating\" : self.story_rating,\n",
        "        \"Actor Rating\": self.actor_rating,\n",
        "        \"Music Rating\": self.music_rating,\n",
        "        \"Avg Rating\" : self.avg\n",
        "    }\n",
        "  \n",
        "  def add_movie_ratings(self, movie_list):\n",
        "        movie_list.append(self.myrating)\n",
        "\n",
        "  def avg_star_ratings(self, movie_list):\n",
        "    for movie in movie_list:\n",
        "      if(movie[\"Avg Rating\"] == 1 ):\n",
        "        print(\"Thanks for the response, You rated Movie with   *\")\n",
        "        print(movie)\n",
        "\n",
        "      elif(movie[\"Avg Rating\"] == 2 ):\n",
        "        print(\"Thanks for the response, You rated Movie with   * * \")\n",
        "        print(movie)\n",
        "\n",
        "      elif(movie[\"Avg Rating\"] == 3 ):\n",
        "        print(\"Thanks for the response, You rated Movie with   * * *\")\n",
        "        print(movie)\n",
        "\n",
        "      elif(movie[\"Avg Rating\"] == 4 ):\n",
        "        print(\"Thanks for the response, You rated Movie with   * * * *\")\n",
        "        print(movie)\n",
        "\n",
        "      if(movie[\"Avg Rating\"] == 5 ):\n",
        "        print(\"Thanks for the response, You rated Movie with   * * * * *\")\n",
        "        print(movie)\n",
        "      \n",
        "        \n",
        "    "
      ],
      "execution_count": 7,
      "outputs": []
    },
    {
      "cell_type": "code",
      "source": [
        "\n"
      ],
      "metadata": {
        "colab": {
          "base_uri": "https://localhost:8080/"
        },
        "id": "QgquBru5dbii",
        "outputId": "48832123-e1c9-4e7f-ae39-c9701efcb2f5"
      },
      "execution_count": null,
      "outputs": [
        {
          "output_type": "stream",
          "name": "stdout",
          "text": [
            "False\n"
          ]
        }
      ]
    },
    {
      "cell_type": "code",
      "metadata": {
        "id": "FS2UixDEmuZh"
      },
      "source": [
        "moviereviews = []"
      ],
      "execution_count": 10,
      "outputs": []
    },
    {
      "cell_type": "code",
      "metadata": {
        "colab": {
          "base_uri": "https://localhost:8080/",
          "height": 217
        },
        "id": "M_PycbwVrFC5",
        "outputId": "b5532369-c9f7-4685-de9b-f9c6c9b433bc"
      },
      "source": [
        "#Enter the name of Movie; \n",
        "# Rate Actor, Story & Music on basis of 1-5 ; 5 being Highest\n",
        "\n",
        "review1 = MovieReview (\"Good Life\", 1, 1, 3)\n",
        "review1.add_movie_ratings(moviereviews)\n",
        "review1.avg_star_ratings(moviereviews)"
      ],
      "execution_count": 8,
      "outputs": [
        {
          "output_type": "error",
          "ename": "NameError",
          "evalue": "ignored",
          "traceback": [
            "\u001b[0;31m---------------------------------------------------------------------------\u001b[0m",
            "\u001b[0;31mNameError\u001b[0m                                 Traceback (most recent call last)",
            "\u001b[0;32m<ipython-input-8-1591c0a91482>\u001b[0m in \u001b[0;36m<module>\u001b[0;34m\u001b[0m\n\u001b[1;32m      3\u001b[0m \u001b[0;34m\u001b[0m\u001b[0m\n\u001b[1;32m      4\u001b[0m \u001b[0mreview1\u001b[0m \u001b[0;34m=\u001b[0m \u001b[0mMovieReview\u001b[0m \u001b[0;34m(\u001b[0m\u001b[0;34m\"Good Life\"\u001b[0m\u001b[0;34m,\u001b[0m \u001b[0;36m1\u001b[0m\u001b[0;34m,\u001b[0m \u001b[0;36m1\u001b[0m\u001b[0;34m,\u001b[0m \u001b[0;36m3\u001b[0m\u001b[0;34m)\u001b[0m\u001b[0;34m\u001b[0m\u001b[0;34m\u001b[0m\u001b[0m\n\u001b[0;32m----> 5\u001b[0;31m \u001b[0mreview1\u001b[0m\u001b[0;34m.\u001b[0m\u001b[0madd_movie_ratings\u001b[0m\u001b[0;34m(\u001b[0m\u001b[0mmoviereviews\u001b[0m\u001b[0;34m)\u001b[0m\u001b[0;34m\u001b[0m\u001b[0;34m\u001b[0m\u001b[0m\n\u001b[0m\u001b[1;32m      6\u001b[0m \u001b[0mreview1\u001b[0m\u001b[0;34m.\u001b[0m\u001b[0mavg_star_ratings\u001b[0m\u001b[0;34m(\u001b[0m\u001b[0mmoviereviews\u001b[0m\u001b[0;34m)\u001b[0m\u001b[0;34m\u001b[0m\u001b[0;34m\u001b[0m\u001b[0m\n",
            "\u001b[0;31mNameError\u001b[0m: name 'moviereviews' is not defined"
          ]
        }
      ]
    },
    {
      "cell_type": "code",
      "metadata": {
        "colab": {
          "base_uri": "https://localhost:8080/",
          "height": 200
        },
        "id": "w-GfuJ2_VFOU",
        "outputId": "0eff664f-aec1-4813-9108-e5ab4b0fb05b"
      },
      "source": [
        "review2 = MovieReview(\"Beautiful Sound\", 5, 5, 5)\n",
        "review2.add_movie_ratings(moviereviews)\n",
        "review2.avg_star_ratings(moviereviews)"
      ],
      "execution_count": 9,
      "outputs": [
        {
          "output_type": "error",
          "ename": "NameError",
          "evalue": "ignored",
          "traceback": [
            "\u001b[0;31m---------------------------------------------------------------------------\u001b[0m",
            "\u001b[0;31mNameError\u001b[0m                                 Traceback (most recent call last)",
            "\u001b[0;32m<ipython-input-9-94d8e936aa6e>\u001b[0m in \u001b[0;36m<module>\u001b[0;34m\u001b[0m\n\u001b[1;32m      1\u001b[0m \u001b[0mreview2\u001b[0m \u001b[0;34m=\u001b[0m \u001b[0mMovieReview\u001b[0m\u001b[0;34m(\u001b[0m\u001b[0;34m\"Beautiful Sound\"\u001b[0m\u001b[0;34m,\u001b[0m \u001b[0;36m5\u001b[0m\u001b[0;34m,\u001b[0m \u001b[0;36m5\u001b[0m\u001b[0;34m,\u001b[0m \u001b[0;36m5\u001b[0m\u001b[0;34m)\u001b[0m\u001b[0;34m\u001b[0m\u001b[0;34m\u001b[0m\u001b[0m\n\u001b[0;32m----> 2\u001b[0;31m \u001b[0mreview2\u001b[0m\u001b[0;34m.\u001b[0m\u001b[0madd_movie_ratings\u001b[0m\u001b[0;34m(\u001b[0m\u001b[0mmoviereviews\u001b[0m\u001b[0;34m)\u001b[0m\u001b[0;34m\u001b[0m\u001b[0;34m\u001b[0m\u001b[0m\n\u001b[0m\u001b[1;32m      3\u001b[0m \u001b[0mreview2\u001b[0m\u001b[0;34m.\u001b[0m\u001b[0mavg_star_ratings\u001b[0m\u001b[0;34m(\u001b[0m\u001b[0mmoviereviews\u001b[0m\u001b[0;34m)\u001b[0m\u001b[0;34m\u001b[0m\u001b[0;34m\u001b[0m\u001b[0m\n",
            "\u001b[0;31mNameError\u001b[0m: name 'moviereviews' is not defined"
          ]
        }
      ]
    },
    {
      "cell_type": "code",
      "metadata": {
        "colab": {
          "base_uri": "https://localhost:8080/"
        },
        "id": "196NYU3rXGrr",
        "outputId": "21e4ffa8-c9a7-4594-b887-7e0304278c45"
      },
      "source": [
        "review3 = MovieReview(\"Smiley\", 1, 1, 3)\n",
        "review3.add_movie_ratings(moviereviews)\n",
        "review3.avg_star_ratings(moviereviews)"
      ],
      "execution_count": null,
      "outputs": [
        {
          "output_type": "stream",
          "name": "stdout",
          "text": [
            "Thanks for the response, You rated Movie with   *\n",
            "{'Movie Name': 'Good Life', 'Story rating': 1, 'Actor Rating': 1, 'Music Rating': 3, 'Avg Rating': 1}\n",
            "Thanks for the response, You rated Movie with   * * * * *\n",
            "{'Movie Name': 'Beautiful Sound', 'Story rating': 5, 'Actor Rating': 5, 'Music Rating': 5, 'Avg Rating': 5}\n",
            "Thanks for the response, You rated Movie with   *\n",
            "{'Movie Name': 'Smiley', 'Story rating': 1, 'Actor Rating': 1, 'Music Rating': 3, 'Avg Rating': 1}\n"
          ]
        }
      ]
    },
    {
      "cell_type": "code",
      "source": [
        "review4 = MovieReview(\"Infinity war\",4,5,4)\n",
        "review4.add_movie_ratings(moviereviews)\n",
        "review4.avg_star_ratings(moviereviews)"
      ],
      "metadata": {
        "id": "I5pA5vKbGkA6",
        "outputId": "0ee6aad7-a4b4-40ca-c094-b13b9ec49336",
        "colab": {
          "base_uri": "https://localhost:8080/"
        }
      },
      "execution_count": 11,
      "outputs": [
        {
          "output_type": "stream",
          "name": "stdout",
          "text": [
            "Thanks for the response, You rated Movie with   * * * *\n",
            "{'Movie Name': 'Infinity war', 'Story rating': 4, 'Actor Rating': 5, 'Music Rating': 4, 'Avg Rating': 4}\n"
          ]
        }
      ]
    }
  ]
}